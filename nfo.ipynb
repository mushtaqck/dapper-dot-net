{
 "cells": [
  {
   "cell_type": "code",
   "execution_count": 2,
   "metadata": {},
   "outputs": [],
   "source": [
    "import pandas as pd\n",
    "import datetime\n",
    "import math"
   ]
  },
  {
   "cell_type": "code",
   "execution_count": 9,
   "metadata": {},
   "outputs": [],
   "source": [
    "df = pd.read_csv(r'./NFO.csv')\n",
    "df = df[df['name'] == 'BANKNIFTY']\n",
    "df.to_pickle('./banknifty.pkl')"
   ]
  },
  {
   "cell_type": "code",
   "execution_count": 4,
   "metadata": {},
   "outputs": [
    {
     "name": "stdout",
     "output_type": "stream",
     "text": [
      "38100\n",
      "2022-01-13\n"
     ]
    },
    {
     "data": {
      "text/html": [
       "<div>\n",
       "<style scoped>\n",
       "    .dataframe tbody tr th:only-of-type {\n",
       "        vertical-align: middle;\n",
       "    }\n",
       "\n",
       "    .dataframe tbody tr th {\n",
       "        vertical-align: top;\n",
       "    }\n",
       "\n",
       "    .dataframe thead th {\n",
       "        text-align: right;\n",
       "    }\n",
       "</style>\n",
       "<table border=\"1\" class=\"dataframe\">\n",
       "  <thead>\n",
       "    <tr style=\"text-align: right;\">\n",
       "      <th></th>\n",
       "      <th>instrument_token</th>\n",
       "      <th>exchange_token</th>\n",
       "      <th>tradingsymbol</th>\n",
       "      <th>name</th>\n",
       "      <th>last_price</th>\n",
       "      <th>expiry</th>\n",
       "      <th>strike</th>\n",
       "      <th>tick_size</th>\n",
       "      <th>lot_size</th>\n",
       "      <th>instrument_type</th>\n",
       "      <th>segment</th>\n",
       "      <th>exchange</th>\n",
       "    </tr>\n",
       "  </thead>\n",
       "  <tbody>\n",
       "  </tbody>\n",
       "</table>\n",
       "</div>"
      ],
      "text/plain": [
       "Empty DataFrame\n",
       "Columns: [instrument_token, exchange_token, tradingsymbol, name, last_price, expiry, strike, tick_size, lot_size, instrument_type, segment, exchange]\n",
       "Index: []"
      ]
     },
     "execution_count": 4,
     "metadata": {},
     "output_type": "execute_result"
    }
   ],
   "source": [
    "def next_expiry():\n",
    "    today = datetime.datetime.today()\n",
    "    next_thursday = today + datetime.timedelta(((3 - today.weekday()) % 7))\n",
    "    return datetime.datetime.strftime(next_thursday, '%Y-%m-%d')\n",
    "\n",
    "spot = 38130\n",
    "\n",
    "print(math.floor(spot/100)*100)\n",
    "\n",
    "print(next_expiry())\n",
    "pkl = pd.read_pickle('./banknifty.pkl')\n",
    "pkl = pkl[pkl.expiry == next_expiry()]\n",
    "pkl = pkl[pkl.strike.between(spot - 1000,spot + 1000)]\n",
    "pkl_pe_sell = pkl[(pkl.instrument_type == 'PE') & (pkl.strike  == spot - 300)]\n",
    "pkl_ce_sell = pkl[(pkl.instrument_type == 'CE') & (pkl.strike  == spot + 300)]\n",
    "pkl_pe_buy = pkl[(pkl.instrument_type == 'PE') & (pkl.strike  == spot - 800)]\n",
    "pkl_ce_buy = pkl[(pkl.instrument_type == 'CE') & (pkl.strike  == spot + 800)]\n",
    "pkl_pe_sell"
   ]
  },
  {
   "cell_type": "code",
   "execution_count": null,
   "metadata": {},
   "outputs": [],
   "source": []
  }
 ],
 "metadata": {
  "interpreter": {
   "hash": "f03bea2aa952fd0f7599529bf231c6edf698a30f234a18893cf1f976c5b705fc"
  },
  "kernelspec": {
   "display_name": "Python 3.9.5 64-bit ('kite': venv)",
   "language": "python",
   "name": "python3"
  },
  "language_info": {
   "codemirror_mode": {
    "name": "ipython",
    "version": 3
   },
   "file_extension": ".py",
   "mimetype": "text/x-python",
   "name": "python",
   "nbconvert_exporter": "python",
   "pygments_lexer": "ipython3",
   "version": "3.9.5"
  },
  "orig_nbformat": 4
 },
 "nbformat": 4,
 "nbformat_minor": 2
}
